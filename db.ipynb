{
 "cells": [
  {
   "cell_type": "code",
   "execution_count": 45,
   "metadata": {},
   "outputs": [],
   "source": [
    "import sqlite3\n",
    "from django.contrib.auth.hashers import make_password\n",
    "from django.conf import settings\n",
    "import pandas as pd\n",
    "import numpy as np\n",
    "from faker import Faker\n",
    "import random\n",
    "from sqlalchemy import create_engine\n",
    "from datetime import datetime\n",
    "\n",
    "settings.configure()"
   ]
  },
  {
   "cell_type": "code",
   "execution_count": 108,
   "metadata": {},
   "outputs": [],
   "source": [
    "connection = sqlite3.connect('db.sqlite3')\n",
    "cursor = connection.cursor()"
   ]
  },
  {
   "cell_type": "code",
   "execution_count": null,
   "metadata": {},
   "outputs": [],
   "source": [
    "cursor.execute('SELECT name FROM sqlite_master WHERE type=\"table\";')\n",
    "print(cursor.fetchall())"
   ]
  },
  {
   "cell_type": "code",
   "execution_count": null,
   "metadata": {},
   "outputs": [],
   "source": [
    "cursor.execute('PRAGMA table_info([user_customuser]);')\n",
    "print(cursor.fetchall())"
   ]
  },
  {
   "cell_type": "code",
   "execution_count": 3,
   "metadata": {},
   "outputs": [
    {
     "data": {
      "text/plain": [
       "<sqlite3.Cursor at 0x1492e336180>"
      ]
     },
     "execution_count": 3,
     "metadata": {},
     "output_type": "execute_result"
    }
   ],
   "source": [
    "# Por motivos desconhecidos, o Django usa o nome errado e diz que a coluna não existe, então alteramos\n",
    "\n",
    "cursor.execute('ALTER TABLE user_business_invitations RENAME COLUMN from_business_id TO business_id;')"
   ]
  },
  {
   "cell_type": "code",
   "execution_count": 124,
   "metadata": {},
   "outputs": [
    {
     "data": {
      "text/html": [
       "<div>\n",
       "<style scoped>\n",
       "    .dataframe tbody tr th:only-of-type {\n",
       "        vertical-align: middle;\n",
       "    }\n",
       "\n",
       "    .dataframe tbody tr th {\n",
       "        vertical-align: top;\n",
       "    }\n",
       "\n",
       "    .dataframe thead th {\n",
       "        text-align: right;\n",
       "    }\n",
       "</style>\n",
       "<table border=\"1\" class=\"dataframe\">\n",
       "  <thead>\n",
       "    <tr style=\"text-align: right;\">\n",
       "      <th></th>\n",
       "      <th>password</th>\n",
       "      <th>email</th>\n",
       "      <th>first_name</th>\n",
       "      <th>last_name</th>\n",
       "      <th>is_active</th>\n",
       "      <th>is_admin</th>\n",
       "      <th>last_login</th>\n",
       "      <th>business</th>\n",
       "      <th>cpf</th>\n",
       "      <th>phone_number</th>\n",
       "      <th>birth_date</th>\n",
       "      <th>is_client</th>\n",
       "    </tr>\n",
       "  </thead>\n",
       "  <tbody>\n",
       "    <tr>\n",
       "      <th>0</th>\n",
       "      <td>pbkdf2_sha256$260000$0XZ2pky2T80U3R82yZb1zB$D2...</td>\n",
       "      <td>lucas-gabrielda-mata@example.com</td>\n",
       "      <td>Ana Clara</td>\n",
       "      <td>da Mata</td>\n",
       "      <td>True</td>\n",
       "      <td>False</td>\n",
       "      <td>2021-11-20 20:24:52</td>\n",
       "      <td>100</td>\n",
       "      <td>13719911719</td>\n",
       "      <td>None</td>\n",
       "      <td>1993-09-21</td>\n",
       "      <td>False</td>\n",
       "    </tr>\n",
       "    <tr>\n",
       "      <th>1</th>\n",
       "      <td>pbkdf2_sha256$260000$53eWnCz39ueFJ0G56PLbvC$AN...</td>\n",
       "      <td>sarahazevedo@example.com</td>\n",
       "      <td>Miguel</td>\n",
       "      <td>Farias</td>\n",
       "      <td>True</td>\n",
       "      <td>False</td>\n",
       "      <td>2021-11-26 23:08:31</td>\n",
       "      <td>7</td>\n",
       "      <td>18343157727</td>\n",
       "      <td>None</td>\n",
       "      <td>1998-03-01</td>\n",
       "      <td>False</td>\n",
       "    </tr>\n",
       "    <tr>\n",
       "      <th>2</th>\n",
       "      <td>pbkdf2_sha256$260000$jdTHXYYoUtxb3Qoyv5SiAF$sT...</td>\n",
       "      <td>silveiralorena@example.com</td>\n",
       "      <td>Emanuella</td>\n",
       "      <td>Ferreira</td>\n",
       "      <td>True</td>\n",
       "      <td>False</td>\n",
       "      <td>2021-12-03 17:17:34</td>\n",
       "      <td>6</td>\n",
       "      <td>17077519600</td>\n",
       "      <td>None</td>\n",
       "      <td>1956-10-30</td>\n",
       "      <td>False</td>\n",
       "    </tr>\n",
       "    <tr>\n",
       "      <th>3</th>\n",
       "      <td>pbkdf2_sha256$260000$xXCPZfDMUnWGl5RGINUgoW$zs...</td>\n",
       "      <td>hsouza@example.net</td>\n",
       "      <td>Lucca</td>\n",
       "      <td>Barros</td>\n",
       "      <td>True</td>\n",
       "      <td>False</td>\n",
       "      <td>2021-11-26 07:18:45</td>\n",
       "      <td>176</td>\n",
       "      <td>14024263800</td>\n",
       "      <td>None</td>\n",
       "      <td>1968-06-03</td>\n",
       "      <td>False</td>\n",
       "    </tr>\n",
       "    <tr>\n",
       "      <th>4</th>\n",
       "      <td>pbkdf2_sha256$260000$KvshA3YwhjgzSFyTH92tkt$RW...</td>\n",
       "      <td>valentina69@example.com</td>\n",
       "      <td>Eloah</td>\n",
       "      <td>Freitas</td>\n",
       "      <td>True</td>\n",
       "      <td>False</td>\n",
       "      <td>2021-12-02 16:22:48</td>\n",
       "      <td>96</td>\n",
       "      <td>11118031212</td>\n",
       "      <td>None</td>\n",
       "      <td>1976-10-12</td>\n",
       "      <td>False</td>\n",
       "    </tr>\n",
       "  </tbody>\n",
       "</table>\n",
       "</div>"
      ],
      "text/plain": [
       "                                            password  \\\n",
       "0  pbkdf2_sha256$260000$0XZ2pky2T80U3R82yZb1zB$D2...   \n",
       "1  pbkdf2_sha256$260000$53eWnCz39ueFJ0G56PLbvC$AN...   \n",
       "2  pbkdf2_sha256$260000$jdTHXYYoUtxb3Qoyv5SiAF$sT...   \n",
       "3  pbkdf2_sha256$260000$xXCPZfDMUnWGl5RGINUgoW$zs...   \n",
       "4  pbkdf2_sha256$260000$KvshA3YwhjgzSFyTH92tkt$RW...   \n",
       "\n",
       "                              email first_name last_name  is_active  is_admin  \\\n",
       "0  lucas-gabrielda-mata@example.com  Ana Clara   da Mata       True     False   \n",
       "1          sarahazevedo@example.com     Miguel    Farias       True     False   \n",
       "2        silveiralorena@example.com  Emanuella  Ferreira       True     False   \n",
       "3                hsouza@example.net      Lucca    Barros       True     False   \n",
       "4           valentina69@example.com      Eloah   Freitas       True     False   \n",
       "\n",
       "           last_login  business          cpf phone_number  birth_date  \\\n",
       "0 2021-11-20 20:24:52       100  13719911719         None  1993-09-21   \n",
       "1 2021-11-26 23:08:31         7  18343157727         None  1998-03-01   \n",
       "2 2021-12-03 17:17:34         6  17077519600         None  1956-10-30   \n",
       "3 2021-11-26 07:18:45       176  14024263800         None  1968-06-03   \n",
       "4 2021-12-02 16:22:48        96  11118031212         None  1976-10-12   \n",
       "\n",
       "   is_client  \n",
       "0      False  \n",
       "1      False  \n",
       "2      False  \n",
       "3      False  \n",
       "4      False  "
      ]
     },
     "execution_count": 124,
     "metadata": {},
     "output_type": "execute_result"
    }
   ],
   "source": [
    "fake = Faker('pt_BR')\n",
    "\n",
    "ddd = [11,12,13,14,15,16,17,18,19,21,22,24,27,28,31,32,33,34,35,37,38,41,42,43,44,45,46,47,48,49,51,53,54,55,61,62,63,64,65,66,67,68,69,71,73,74,75,77,79,81,82,83,84,85,86,87,88,89,91,92,93,94,95,96,97,98,99]\n",
    "ddd = np.array(ddd, dtype=str)\n",
    "\n",
    "def create_rows(num=1):\n",
    "    output = [{\"password\": make_password(fake.password()),\n",
    "               \"email\": fake.unique.email(),\n",
    "               \"first_name\": fake.first_name(),\n",
    "               \"last_name\": fake.last_name(),\n",
    "               \"is_active\": True,\n",
    "               \"is_admin\": False,\n",
    "               \"last_login\": fake.date_time_between(start_date='-1M', end_date='now'),\n",
    "               \"business_id\": random.randint(1,205)\n",
    "            } for x in range(num)]\n",
    "    n = int(num/2)\n",
    "    phone = np.array([random.randint(900000000, 999999999) for x in range(n)], dtype=str)\n",
    "    result = pd.DataFrame(output)\n",
    "    result['cpf'] = np.append(np.array(random.sample(range(10000000000, 20000000000), n)), np.array([None]*n))\n",
    "    result['phone_number'] = np.append(np.array([None]*n), list(map(lambda x: random.choice(ddd)+x, phone)))\n",
    "    result['birth_date'] = np.append([fake.date_between(start_date='-70y', end_date='-18y') for x in range(n)], np.array([None]*n))\n",
    "    result['is_client'] = np.append(np.array([False]*n), np.array([True]*n))\n",
    "    return result\n",
    "\n",
    "df = create_rows(2000)\n",
    "df.head()"
   ]
  },
  {
   "cell_type": "code",
   "execution_count": 127,
   "metadata": {},
   "outputs": [],
   "source": [
    "engine = create_engine('sqlite:///db.sqlite3')\n",
    "df.to_sql(name = 'user_customuser', con = engine, if_exists = 'append', index = False)"
   ]
  },
  {
   "cell_type": "code",
   "execution_count": 111,
   "metadata": {},
   "outputs": [],
   "source": [
    "connection.commit()\n",
    "cursor.close()\n",
    "connection.close()"
   ]
  }
 ],
 "metadata": {
  "interpreter": {
   "hash": "a36983da32dc75496cbc2fe29b9a4b1d646ce81f37c8990057bfb2dcfb68afd2"
  },
  "kernelspec": {
   "display_name": "Python 3.9.7 64-bit ('django': conda)",
   "language": "python",
   "name": "python3"
  },
  "language_info": {
   "codemirror_mode": {
    "name": "ipython",
    "version": 3
   },
   "file_extension": ".py",
   "mimetype": "text/x-python",
   "name": "python",
   "nbconvert_exporter": "python",
   "pygments_lexer": "ipython3",
   "version": "3.9.7"
  },
  "orig_nbformat": 4
 },
 "nbformat": 4,
 "nbformat_minor": 2
}
